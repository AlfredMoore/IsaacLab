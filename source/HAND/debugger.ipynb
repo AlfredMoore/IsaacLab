{
 "cells": [
  {
   "cell_type": "code",
   "execution_count": null,
   "id": "13b029a4",
   "metadata": {},
   "outputs": [
    {
     "name": "stdout",
     "output_type": "stream",
     "text": [
      "[Warning] [simulation_app] Interactive python shell detected but ISAAC_JUPYTER_KERNEL was not set. Problems with asyncio may occur\n",
      "[Warning] [simulation_app] Please use Isaac Sim Python 3 kernel instead of the default Python 3 Kernel\n"
     ]
    }
   ],
   "source": [
    "import numpy as np\n",
    "from isaacsim import SimulationApp\n",
    "simulation_app = SimulationApp({\"headless\": False})"
   ]
  }
 ],
 "metadata": {
  "kernelspec": {
   "display_name": "env_isaacsim",
   "language": "python",
   "name": "python3"
  },
  "language_info": {
   "codemirror_mode": {
    "name": "ipython",
    "version": 3
   },
   "file_extension": ".py",
   "mimetype": "text/x-python",
   "name": "python",
   "nbconvert_exporter": "python",
   "pygments_lexer": "ipython3",
   "version": "3.10.16"
  }
 },
 "nbformat": 4,
 "nbformat_minor": 5
}
