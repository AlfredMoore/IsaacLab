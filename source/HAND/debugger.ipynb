{
 "cells": [
  {
   "cell_type": "code",
   "execution_count": null,
   "id": "13b029a4",
   "metadata": {},
   "outputs": [],
   "source": [
    "from isaacsim import SimulationApp\n",
    "\n",
    "simulation_app = SimulationApp({\"headless\": True})\n",
    "## perform any Isaac Sim / Omniverse imports after instantiating the class"
   ]
  },
  {
   "cell_type": "code",
   "execution_count": null,
   "id": "099440fa",
   "metadata": {},
   "outputs": [],
   "source": []
  }
 ],
 "metadata": {
  "kernelspec": {
   "display_name": "env_isaacsim",
   "language": "python",
   "name": "python3"
  },
  "language_info": {
   "codemirror_mode": {
    "name": "ipython",
    "version": 3
   },
   "file_extension": ".py",
   "mimetype": "text/x-python",
   "name": "python",
   "nbconvert_exporter": "python",
   "pygments_lexer": "ipython3",
   "version": "3.10.16"
  }
 },
 "nbformat": 4,
 "nbformat_minor": 5
}
